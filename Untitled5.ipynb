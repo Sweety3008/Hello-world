{
  "nbformat": 4,
  "nbformat_minor": 0,
  "metadata": {
    "colab": {
      "name": "Untitled5.ipynb",
      "provenance": [],
      "authorship_tag": "ABX9TyMN7wwu79So6+c1WqwV047m",
      "include_colab_link": true
    },
    "kernelspec": {
      "name": "python3",
      "display_name": "Python 3"
    }
  },
  "cells": [
    {
      "cell_type": "markdown",
      "metadata": {
        "id": "view-in-github",
        "colab_type": "text"
      },
      "source": [
        "<a href=\"https://colab.research.google.com/github/Sweety3008/Hello-world/blob/master/Untitled5.ipynb\" target=\"_parent\"><img src=\"https://colab.research.google.com/assets/colab-badge.svg\" alt=\"Open In Colab\"/></a>"
      ]
    },
    {
      "cell_type": "code",
      "metadata": {
        "id": "nFk8IHiCN83g",
        "colab_type": "code",
        "colab": {}
      },
      "source": [
        "Vectorisers used in NLP pipelines\n",
        "##1  - CountVector - CountVectorizer \n",
        "##2  - Term Frequency  - TF = (# occurrences of term t in document)/(# of words in document)  \n",
        "##3  - Inverse Documnet frequency  - IDF - \n",
        "##4 - Term Frequency - Inverse Documnet frequency (TfidfVectorizer)\n"
      ],
      "execution_count": null,
      "outputs": []
    },
    {
      "cell_type": "code",
      "metadata": {
        "id": "VW1y5KgrGTYp",
        "colab_type": "code",
        "colab": {}
      },
      "source": [
        "from sklearn.feature_extraction.text import TfidfVectorizer, CountVectorizer \n",
        "import numpy as np"
      ],
      "execution_count": 9,
      "outputs": []
    },
    {
      "cell_type": "code",
      "metadata": {
        "id": "H9L_8_ygIQJb",
        "colab_type": "code",
        "colab": {}
      },
      "source": [
        "sentences = ['I have a credit card account','My account card, debit card is lost','My credit card stopped working']"
      ],
      "execution_count": 10,
      "outputs": []
    },
    {
      "cell_type": "code",
      "metadata": {
        "id": "ALMBQd0kPvp8",
        "colab_type": "code",
        "colab": {}
      },
      "source": [
        "#CountVectorizer gives no. of times the word occurs in the documents. "
      ],
      "execution_count": 18,
      "outputs": []
    },
    {
      "cell_type": "code",
      "metadata": {
        "id": "LSAgW0NwIza9",
        "colab_type": "code",
        "colab": {}
      },
      "source": [
        "vectorizer = CountVectorizer()\n",
        "countvec = vectorizer.fit_transform(sentences) "
      ],
      "execution_count": 11,
      "outputs": []
    },
    {
      "cell_type": "code",
      "metadata": {
        "id": "9VxnwIe2JGfm",
        "colab_type": "code",
        "colab": {
          "base_uri": "https://localhost:8080/",
          "height": 68
        },
        "outputId": "0e65edc6-67ea-4b62-ec20-a2e3cb69ebdd"
      },
      "source": [
        "countvec.A"
      ],
      "execution_count": 12,
      "outputs": [
        {
          "output_type": "execute_result",
          "data": {
            "text/plain": [
              "array([[1, 1, 1, 0, 1, 0, 0, 0, 0, 0],\n",
              "       [1, 2, 0, 1, 0, 1, 1, 1, 0, 0],\n",
              "       [0, 1, 1, 0, 0, 0, 0, 1, 1, 1]])"
            ]
          },
          "metadata": {
            "tags": []
          },
          "execution_count": 12
        }
      ]
    },
    {
      "cell_type": "code",
      "metadata": {
        "id": "Qugsy92RJPtl",
        "colab_type": "code",
        "colab": {
          "base_uri": "https://localhost:8080/",
          "height": 187
        },
        "outputId": "c93edc89-8ce0-42ff-8b88-4132dd778e83"
      },
      "source": [
        "vectorizer.get_feature_names()"
      ],
      "execution_count": 13,
      "outputs": [
        {
          "output_type": "execute_result",
          "data": {
            "text/plain": [
              "['account',\n",
              " 'card',\n",
              " 'credit',\n",
              " 'debit',\n",
              " 'have',\n",
              " 'is',\n",
              " 'lost',\n",
              " 'my',\n",
              " 'stopped',\n",
              " 'working']"
            ]
          },
          "metadata": {
            "tags": []
          },
          "execution_count": 13
        }
      ]
    },
    {
      "cell_type": "code",
      "metadata": {
        "id": "r9rrFN_yJavS",
        "colab_type": "code",
        "colab": {
          "base_uri": "https://localhost:8080/",
          "height": 85
        },
        "outputId": "188006c1-68c9-40b9-b356-c4ed4a78d3c5"
      },
      "source": [
        "vectorizer = CountVectorizer(max_features=4)\n",
        "count_vec = vectorizer.fit_transform(sentences)\n",
        "print(count_vec.A)\n",
        "print(vectorizer.get_feature_names())"
      ],
      "execution_count": 32,
      "outputs": [
        {
          "output_type": "stream",
          "text": [
            "[[1 1 1 0]\n",
            " [1 2 0 1]\n",
            " [0 1 1 1]]\n",
            "['account', 'card', 'credit', 'my']\n"
          ],
          "name": "stdout"
        }
      ]
    },
    {
      "cell_type": "code",
      "metadata": {
        "id": "euK7L5zCKJTr",
        "colab_type": "code",
        "colab": {
          "base_uri": "https://localhost:8080/",
          "height": 85
        },
        "outputId": "dea3a715-1f55-4f89-c758-6b85e4e6bbbc"
      },
      "source": [
        "## Stop word are the unnecessary / unwanted words e.g 'my\n",
        "vectorizer = CountVectorizer(max_features=4, stop_words='english')\n",
        "count_vec = vectorizer.fit_transform(sentences)\n",
        "print(count_vec.A)\n",
        "print(vectorizer.get_feature_names())"
      ],
      "execution_count": 34,
      "outputs": [
        {
          "output_type": "stream",
          "text": [
            "[[1 1 1 0]\n",
            " [1 2 0 1]\n",
            " [0 1 1 0]]\n",
            "['account', 'card', 'credit', 'debit']\n"
          ],
          "name": "stdout"
        }
      ]
    },
    {
      "cell_type": "code",
      "metadata": {
        "id": "jzVv9ILenU1e",
        "colab_type": "code",
        "colab": {
          "base_uri": "https://localhost:8080/",
          "height": 85
        },
        "outputId": "eb9c09c6-103e-44bf-ce66-873730762eae"
      },
      "source": [
        "## e.g instead of just credit, it would be credit card  using n_gram\n",
        "vectorizer = CountVectorizer(max_features=6, ngram_range=(1,2), stop_words='english')\n",
        "count_vec = vectorizer.fit_transform(sentences)\n",
        "print(count_vec.A)\n",
        "print(vectorizer.get_feature_names())"
      ],
      "execution_count": 40,
      "outputs": [
        {
          "output_type": "stream",
          "text": [
            "[[1 0 1 1 1 1]\n",
            " [1 1 2 0 0 0]\n",
            " [0 0 1 0 1 1]]\n",
            "['account', 'account card', 'card', 'card account', 'credit', 'credit card']\n"
          ],
          "name": "stdout"
        }
      ]
    },
    {
      "cell_type": "code",
      "metadata": {
        "id": "HF9Ift7rMTTB",
        "colab_type": "code",
        "colab": {}
      },
      "source": [
        "#TF_ Term frequesncy - # of times the word occurs in the document/total no. of words in the document.\n",
        "#TF = (# occurrences of term t in document)/(# of words in document)\n",
        "#norm could be , 'none, 'l1','l2'  by default norm is l2 - euclidean norm "
      ],
      "execution_count": 25,
      "outputs": []
    },
    {
      "cell_type": "code",
      "metadata": {
        "id": "Tc3fTGA1QTq3",
        "colab_type": "code",
        "colab": {
          "base_uri": "https://localhost:8080/",
          "height": 136
        },
        "outputId": "eeddffe8-4eb8-4dcc-c2fa-b7a292562bf0"
      },
      "source": [
        "## TfidfVectorizer gives term frequency of a word in the documnet , use_idf = false will give only tf and dont show IDF, \n",
        "#norm = 'l1' gives normalised output, norm = l2 uses euclidean value ate the division.\n",
        "\n",
        "#print(no. of times term t occurs/np.srt(total no. of words)) euclidean value norm = 'l2'\n",
        "vectorizer = TfidfVectorizer(use_idf= False, norm='l1')\n",
        "tfvec = vectorizer.fit_transform(sentences)\n",
        "print(tfvec.A)\n",
        "print(vectorizer.get_feature_names())"
      ],
      "execution_count": 27,
      "outputs": [
        {
          "output_type": "stream",
          "text": [
            "[[0.25       0.25       0.25       0.         0.25       0.\n",
            "  0.         0.         0.         0.        ]\n",
            " [0.14285714 0.28571429 0.         0.14285714 0.         0.14285714\n",
            "  0.14285714 0.14285714 0.         0.        ]\n",
            " [0.         0.2        0.2        0.         0.         0.\n",
            "  0.         0.2        0.2        0.2       ]]\n",
            "['account', 'card', 'credit', 'debit', 'have', 'is', 'lost', 'my', 'stopped', 'working']\n"
          ],
          "name": "stdout"
        }
      ]
    },
    {
      "cell_type": "code",
      "metadata": {
        "id": "5InNujEtjrso",
        "colab_type": "code",
        "colab": {
          "base_uri": "https://localhost:8080/",
          "height": 136
        },
        "outputId": "b0993d2c-792c-4524-dd9f-cdc8116c3fc3"
      },
      "source": [
        "#Using Eculidean norm - 'l2' norm \n",
        "##print(no. of times term t occurs/np.srt(total no. of words)) euclidean value norm = 'l2'\n",
        "\n",
        "vectorizer = TfidfVectorizer(use_idf= False, norm='l2')\n",
        "tfvec = vectorizer.fit_transform(sentences)\n",
        "print(tfvec.A)\n",
        "print(vectorizer.get_feature_names())"
      ],
      "execution_count": 28,
      "outputs": [
        {
          "output_type": "stream",
          "text": [
            "[[0.5        0.5        0.5        0.         0.5        0.\n",
            "  0.         0.         0.         0.        ]\n",
            " [0.33333333 0.66666667 0.         0.33333333 0.         0.33333333\n",
            "  0.33333333 0.33333333 0.         0.        ]\n",
            " [0.         0.4472136  0.4472136  0.         0.         0.\n",
            "  0.         0.4472136  0.4472136  0.4472136 ]]\n",
            "['account', 'card', 'credit', 'debit', 'have', 'is', 'lost', 'my', 'stopped', 'working']\n"
          ],
          "name": "stdout"
        }
      ]
    },
    {
      "cell_type": "code",
      "metadata": {
        "id": "ezGE8RpNkHeB",
        "colab_type": "code",
        "colab": {
          "base_uri": "https://localhost:8080/",
          "height": 85
        },
        "outputId": "b8caba02-fb62-4570-f40d-8b924eb3671e"
      },
      "source": [
        "#When norm is none , it should output similar to countvectoriser \n",
        "vectorizer = TfidfVectorizer(use_idf= False, norm= None)\n",
        "tfvec = vectorizer.fit_transform(sentences)\n",
        "print(tfvec.A)\n",
        "print(vectorizer.get_feature_names())"
      ],
      "execution_count": 31,
      "outputs": [
        {
          "output_type": "stream",
          "text": [
            "[[1. 1. 1. 0. 1. 0. 0. 0. 0. 0.]\n",
            " [1. 2. 0. 1. 0. 1. 1. 1. 0. 0.]\n",
            " [0. 1. 1. 0. 0. 0. 0. 1. 1. 1.]]\n",
            "['account', 'card', 'credit', 'debit', 'have', 'is', 'lost', 'my', 'stopped', 'working']\n"
          ],
          "name": "stdout"
        }
      ]
    },
    {
      "cell_type": "code",
      "metadata": {
        "id": "ltsvtMDomP_H",
        "colab_type": "code",
        "colab": {}
      },
      "source": [
        "## IDF - Inverse document frequency \n",
        "##Diminishes weight of term that occurs very frequently and increases weight of term that occurs rarely. \n",
        "## IDF = log(# of documents/ # documents with term t in it )"
      ],
      "execution_count": null,
      "outputs": []
    },
    {
      "cell_type": "code",
      "metadata": {
        "id": "qbv5mlr0mDzq",
        "colab_type": "code",
        "colab": {
          "base_uri": "https://localhost:8080/",
          "height": 238
        },
        "outputId": "750fe33a-8fd5-4b24-8bc4-164589d064ba"
      },
      "source": [
        "## IDF  - Term frequency * Inverse documnet frequency \n",
        "vectorizer_idf = TfidfVectorizer(smooth_idf= False)\n",
        "tfvec5 = vectorizer_idf.fit_transform(sentences)\n",
        "print(vectorizer_idf.idf_)   # This gives value of IDF\n",
        "print('\\n')\n",
        "print(tfvec5.A)  # values of TF\n",
        "print('\\n')\n",
        "print(vectorizer.get_feature_names())"
      ],
      "execution_count": 45,
      "outputs": [
        {
          "output_type": "stream",
          "text": [
            "[1.40546511 1.         1.40546511 2.09861229 2.09861229 2.09861229\n",
            " 2.09861229 1.40546511 2.09861229 2.09861229]\n",
            "\n",
            "\n",
            "[[0.45951737 0.3269504  0.45951737 0.         0.68614212 0.\n",
            "  0.         0.         0.         0.        ]\n",
            " [0.3055129  0.43474989 0.         0.45618573 0.         0.45618573\n",
            "  0.45618573 0.3055129  0.         0.        ]\n",
            " [0.         0.26959162 0.37890161 0.         0.         0.\n",
            "  0.         0.37890161 0.56576828 0.56576828]]\n",
            "\n",
            "\n",
            "['account', 'account card', 'card', 'card account', 'credit', 'credit card']\n"
          ],
          "name": "stdout"
        }
      ]
    },
    {
      "cell_type": "code",
      "metadata": {
        "id": "tgvj7vy2m-2q",
        "colab_type": "code",
        "colab": {
          "base_uri": "https://localhost:8080/",
          "height": 34
        },
        "outputId": "ff4e09c2-b274-4016-981c-9144c56b8452"
      },
      "source": [
        "#This is the formule used in above case\n",
        "print(np.log(3/2)+1)\n",
        "#3 is no. of documnet in above case\n",
        "# 2 is word accounts occurs in tow documents\n",
        "# 1 is to take care of effect - when doc is 3 & no. of t is 3 then log(3/3) = 0 + 1"
      ],
      "execution_count": 47,
      "outputs": [
        {
          "output_type": "stream",
          "text": [
            "1.4054651081081644\n"
          ],
          "name": "stdout"
        }
      ]
    },
    {
      "cell_type": "code",
      "metadata": {
        "id": "jeckpnbkscdz",
        "colab_type": "code",
        "colab": {}
      },
      "source": [
        ""
      ],
      "execution_count": null,
      "outputs": []
    }
  ]
}